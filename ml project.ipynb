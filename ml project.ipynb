{
 "cells": [
  {
   "cell_type": "code",
   "execution_count": 1,
   "id": "83f369ea",
   "metadata": {},
   "outputs": [
    {
     "name": "stderr",
     "output_type": "stream",
     "text": [
      "[nltk_data] Downloading package stopwords to C:\\Users\\Shiva\n",
      "[nltk_data]     Sai\\AppData\\Roaming\\nltk_data...\n",
      "[nltk_data]   Package stopwords is already up-to-date!\n"
     ]
    },
    {
     "data": {
      "text/plain": [
       "True"
      ]
     },
     "execution_count": 1,
     "metadata": {},
     "output_type": "execute_result"
    }
   ],
   "source": [
    "import pandas as pd\n",
    "import nltk\n",
    "from nltk.corpus import stopwords\n",
    "from sklearn.model_selection import train_test_split\n",
    "from sklearn.feature_extraction.text import TfidfVectorizer\n",
    "from sklearn.metrics import accuracy_score, classification_report, confusion_matrix\n",
    "from scipy.sparse import hstack, csr_matrix\n",
    "from sklearn.ensemble import GradientBoostingClassifier\n",
    "nltk.download('stopwords')"
   ]
  },
  {
   "cell_type": "code",
   "execution_count": 3,
   "id": "77f62804",
   "metadata": {},
   "outputs": [
    {
     "data": {
      "text/html": [
       "<div>\n",
       "<style scoped>\n",
       "    .dataframe tbody tr th:only-of-type {\n",
       "        vertical-align: middle;\n",
       "    }\n",
       "\n",
       "    .dataframe tbody tr th {\n",
       "        vertical-align: top;\n",
       "    }\n",
       "\n",
       "    .dataframe thead th {\n",
       "        text-align: right;\n",
       "    }\n",
       "</style>\n",
       "<table border=\"1\" class=\"dataframe\">\n",
       "  <thead>\n",
       "    <tr style=\"text-align: right;\">\n",
       "      <th></th>\n",
       "      <th>v1</th>\n",
       "      <th>v2</th>\n",
       "      <th>Unnamed: 2</th>\n",
       "      <th>Unnamed: 3</th>\n",
       "      <th>Unnamed: 4</th>\n",
       "    </tr>\n",
       "  </thead>\n",
       "  <tbody>\n",
       "    <tr>\n",
       "      <th>0</th>\n",
       "      <td>ham</td>\n",
       "      <td>Go until jurong point, crazy.. Available only ...</td>\n",
       "      <td>NaN</td>\n",
       "      <td>NaN</td>\n",
       "      <td>NaN</td>\n",
       "    </tr>\n",
       "    <tr>\n",
       "      <th>1</th>\n",
       "      <td>ham</td>\n",
       "      <td>Ok lar... Joking wif u oni...</td>\n",
       "      <td>NaN</td>\n",
       "      <td>NaN</td>\n",
       "      <td>NaN</td>\n",
       "    </tr>\n",
       "    <tr>\n",
       "      <th>2</th>\n",
       "      <td>spam</td>\n",
       "      <td>Free entry in 2 a wkly comp to win FA Cup fina...</td>\n",
       "      <td>NaN</td>\n",
       "      <td>NaN</td>\n",
       "      <td>NaN</td>\n",
       "    </tr>\n",
       "    <tr>\n",
       "      <th>3</th>\n",
       "      <td>ham</td>\n",
       "      <td>U dun say so early hor... U c already then say...</td>\n",
       "      <td>NaN</td>\n",
       "      <td>NaN</td>\n",
       "      <td>NaN</td>\n",
       "    </tr>\n",
       "    <tr>\n",
       "      <th>4</th>\n",
       "      <td>ham</td>\n",
       "      <td>Nah I don't think he goes to usf, he lives aro...</td>\n",
       "      <td>NaN</td>\n",
       "      <td>NaN</td>\n",
       "      <td>NaN</td>\n",
       "    </tr>\n",
       "  </tbody>\n",
       "</table>\n",
       "</div>"
      ],
      "text/plain": [
       "     v1                                                 v2 Unnamed: 2  \\\n",
       "0   ham  Go until jurong point, crazy.. Available only ...        NaN   \n",
       "1   ham                      Ok lar... Joking wif u oni...        NaN   \n",
       "2  spam  Free entry in 2 a wkly comp to win FA Cup fina...        NaN   \n",
       "3   ham  U dun say so early hor... U c already then say...        NaN   \n",
       "4   ham  Nah I don't think he goes to usf, he lives aro...        NaN   \n",
       "\n",
       "  Unnamed: 3 Unnamed: 4  \n",
       "0        NaN        NaN  \n",
       "1        NaN        NaN  \n",
       "2        NaN        NaN  \n",
       "3        NaN        NaN  \n",
       "4        NaN        NaN  "
      ]
     },
     "execution_count": 3,
     "metadata": {},
     "output_type": "execute_result"
    }
   ],
   "source": [
    "import pandas as pd\n",
    "\n",
    "# Try this first\n",
    "df = pd.read_csv(r\"spam.csv\", encoding='ISO-8859-1')\n",
    "df.head()"
   ]
  },
  {
   "cell_type": "code",
   "execution_count": null,
   "id": "04bee0a3",
   "metadata": {},
   "outputs": [],
   "source": []
  },
  {
   "cell_type": "code",
   "execution_count": 9,
   "id": "c3491532",
   "metadata": {},
   "outputs": [],
   "source": [
    "def preprocess_text(text):\n",
    "    # Convert text to lowercase\n",
    "    text = text.lower()\n",
    "    # Remove non-alphabetic characters (numbers and punctuations)\n",
    "    text = ''.join([char for char in text if char.isalpha() or char.isspace()])\n",
    "    # Tokenize and remove stopwords\n",
    "    stop_words = set(stopwords.words('english'))\n",
    "    words = text.split()\n",
    "    words = [word for word in words if word not in stop_words]\n",
    "    return ' '.join(words)"
   ]
  },
  {
   "cell_type": "code",
   "execution_count": 10,
   "id": "5e266717",
   "metadata": {},
   "outputs": [
    {
     "name": "stdout",
     "output_type": "stream",
     "text": [
      "  label                                            message Unnamed: 2  \\\n",
      "0   ham  Go until jurong point, crazy.. Available only ...        NaN   \n",
      "1   ham                      Ok lar... Joking wif u oni...        NaN   \n",
      "2  spam  Free entry in 2 a wkly comp to win FA Cup fina...        NaN   \n",
      "3   ham  U dun say so early hor... U c already then say...        NaN   \n",
      "4   ham  Nah I don't think he goes to usf, he lives aro...        NaN   \n",
      "\n",
      "  Unnamed: 3 Unnamed: 4                                    cleaned_message  \n",
      "0        NaN        NaN  go jurong point crazy available bugis n great ...  \n",
      "1        NaN        NaN                            ok lar joking wif u oni  \n",
      "2        NaN        NaN  free entry wkly comp win fa cup final tkts st ...  \n",
      "3        NaN        NaN                u dun say early hor u c already say  \n",
      "4        NaN        NaN        nah dont think goes usf lives around though  \n"
     ]
    }
   ],
   "source": [
    "# Apply preprocessing\n",
    "df[\"cleaned_message\"] = df[\"message\"].apply(preprocess_text)\n",
    "\n",
    "# Check the cleaned data\n",
    "print(df.head())"
   ]
  },
  {
   "cell_type": "code",
   "execution_count": 14,
   "id": "0015a958",
   "metadata": {},
   "outputs": [
    {
     "data": {
      "image/png": "[encoded data removed]",
      "text/plain": [
       "<Figure size 432x288 with 1 Axes>"
      ]
     },
     "metadata": {
      "needs_background": "light"
     },
     "output_type": "display_data"
    }
   ],
   "source": [
    "import seaborn as sns\n",
    "import matplotlib.pyplot as plt\n",
    "sns.countplot(data=df, x='label')\n",
    "plt.title('Spam vs Ham Distribution')\n",
    "plt.xlabel('Message Type')\n",
    "plt.ylabel('count')\n",
    "plt.show()"
   ]
  },
  {
   "cell_type": "code",
   "execution_count": 15,
   "id": "99c27562",
   "metadata": {},
   "outputs": [
    {
     "name": "stdout",
     "output_type": "stream",
     "text": [
      "(5572, 5000)\n"
     ]
    }
   ],
   "source": [
    "# Feature extraction using TF-IDF\n",
    "tfidf_vectorizer = TfidfVectorizer(max_features=5000)\n",
    "\n",
    "# Convert the cleaned messages into a feature matrix\n",
    "X = tfidf_vectorizer.fit_transform(df[\"cleaned_message\"]).toarray()\n",
    "\n",
    "# Check the feature matrix\n",
    "print(X.shape)"
   ]
  },
  {
   "cell_type": "code",
   "execution_count": 16,
   "id": "e69fc325",
   "metadata": {},
   "outputs": [
    {
     "data": {
      "image/png": "[encoded data removed]",
      "text/plain": [
       "<Figure size 720x360 with 1 Axes>"
      ]
     },
     "metadata": {
      "needs_background": "light"
     },
     "output_type": "display_data"
    }
   ],
   "source": [
    "# Assuming tfidf_vectorizer is your fitted TfidfVectorizer\n",
    "feature_names = tfidf_vectorizer.get_feature_names_out()\n",
    "idf_scores = tfidf_vectorizer.idf_\n",
    "\n",
    "# Create DataFrame for visualization\n",
    "import pandas as pd\n",
    "idf_df = pd.DataFrame({'Word': feature_names, 'IDF': idf_scores})\n",
    "idf_df = idf_df.sort_values(by='IDF', ascending=False).head(20)\n",
    "\n",
    "# Plot\n",
    "plt.figure(figsize=(10,5))\n",
    "sns.barplot(x='Word', y='IDF', data=idf_df)\n",
    "plt.xticks(rotation=45)\n",
    "plt.title('Top 20 Highest TF-IDF Words')\n",
    "plt.show()"
   ]
  },
  {
   "cell_type": "code",
   "execution_count": 17,
   "id": "30c7bb9d",
   "metadata": {},
   "outputs": [
    {
     "name": "stdout",
     "output_type": "stream",
     "text": [
      "(5572, 5000)\n"
     ]
    }
   ],
   "source": [
    "from sklearn.feature_extraction.text import TfidfVectorizer\n",
    "\n",
    "# Using bigrams (2-grams)\n",
    "tfidf_vectorizer_bigrams = TfidfVectorizer(ngram_range=(1, 2), max_features=5000)\n",
    "\n",
    "# Fit the vectorizer to the cleaned messages\n",
    "X_bigrams = tfidf_vectorizer_bigrams.fit_transform(df[\"cleaned_message\"]).toarray()\n",
    "print(X_bigrams.shape)"
   ]
  },
  {
   "cell_type": "code",
   "execution_count": 18,
   "id": "165bd95e",
   "metadata": {},
   "outputs": [
    {
     "name": "stderr",
     "output_type": "stream",
     "text": [
      "[nltk_data] Downloading package punkt_tab to C:\\Users\\Shiva\n",
      "[nltk_data]     Sai\\AppData\\Roaming\\nltk_data...\n",
      "[nltk_data]   Unzipping tokenizers\\punkt_tab.zip.\n"
     ]
    },
    {
     "data": {
      "text/plain": [
       "True"
      ]
     },
     "execution_count": 18,
     "metadata": {},
     "output_type": "execute_result"
    }
   ],
   "source": [
    "import nltk\n",
    "nltk.download('punkt_tab')"
   ]
  },
  {
   "cell_type": "code",
   "execution_count": 19,
   "id": "61e8c8da",
   "metadata": {},
   "outputs": [
    {
     "name": "stdout",
     "output_type": "stream",
     "text": [
      "[-8.9321760e-03  5.7800272e-03  5.6260265e-03 -5.9546798e-04\n",
      " -7.8790803e-03 -5.6954664e-03 -5.0699841e-03  2.0180138e-02\n",
      " -6.5239915e-03  6.0466561e-03  3.7906382e-03 -1.3664892e-02\n",
      " -2.3785324e-03  6.4134952e-03  9.9381953e-03 -1.9278235e-03\n",
      " -6.9800518e-03 -2.8995636e-03 -4.9607689e-03 -9.0810796e-03\n",
      " -1.0303111e-03  4.8530633e-03 -3.0640541e-03  6.5016658e-03\n",
      "  5.7676295e-03 -1.9832950e-03 -9.0273432e-03 -1.1130336e-03\n",
      " -1.6337346e-02  5.4905568e-03 -3.8283160e-03  8.9312037e-03\n",
      " -6.0752095e-03 -1.4188129e-02 -5.3676311e-03  2.2711666e-04\n",
      " -9.2917513e-03 -1.3288185e-02  3.5151322e-03 -7.3731546e-03\n",
      "  1.1863379e-02 -7.6355692e-03 -1.0230377e-02  9.6915606e-03\n",
      "  8.4377835e-03 -7.6466515e-03 -1.0212271e-02  4.7971196e-03\n",
      " -9.4486668e-04  8.0131609e-03  1.0390228e-02 -1.3170873e-02\n",
      " -1.0721098e-02 -1.4230949e-03  5.2847387e-03  3.9825137e-03\n",
      "  2.9202260e-03  4.6187416e-03 -3.7037616e-04 -5.3515416e-03\n",
      "  1.1768549e-02  2.1992852e-03 -7.7295098e-03  2.3824770e-03\n",
      " -1.5229047e-02  1.2377830e-02  5.9840423e-03  8.5401942e-04\n",
      " -9.5072100e-03  1.0396202e-04 -5.8541088e-03  5.3261505e-03\n",
      "  1.6966743e-02  3.7569830e-03  1.6344175e-02 -1.5266899e-04\n",
      " -5.1461358e-04 -5.5209565e-04 -1.0843764e-02  5.4121232e-03\n",
      " -8.0634020e-03 -9.9878823e-03  9.3953684e-05  9.2990231e-03\n",
      "  9.3864521e-04 -5.1825484e-03  5.2559213e-03 -1.0917322e-03\n",
      "  1.2283718e-02  8.5504372e-03  1.5307514e-02  7.2956947e-03\n",
      "  2.7603577e-04  8.5516600e-03  1.7561924e-02  5.8539142e-03\n",
      "  9.5154038e-03 -2.6122355e-03 -4.9882960e-03 -1.4880269e-03]\n"
     ]
    }
   ],
   "source": [
    "from gensim.models import Word2Vec\n",
    "from nltk.tokenize import word_tokenize\n",
    "\n",
    "# Tokenize the messages\n",
    "df['tokens'] = df['cleaned_message'].apply(word_tokenize)\n",
    "\n",
    "# Train the Word2Vec model\n",
    "word2vec_model = Word2Vec(df['tokens'], vector_size=100, window=5, min_count=1, workers=4)\n",
    "\n",
    "# Get the vector for a sample word\n",
    "vector = word2vec_model.wv['spam']\n",
    "\n",
    "# Output: Vector for the word 'spam'\n",
    "print(vector)"
   ]
  },
  {
   "cell_type": "code",
   "execution_count": 21,
   "id": "95f64e04",
   "metadata": {},
   "outputs": [],
   "source": [
    "# Encode the target variable (spam = 1, ham = 0)\n",
    "y = df[\"label\"].apply(lambda x: 1 if x == \"spam\" else 0)\n"
   ]
  },
  {
   "cell_type": "code",
   "execution_count": 22,
   "id": "474942af",
   "metadata": {},
   "outputs": [],
   "source": [
    "# Split the data into training and testing sets (80% train, 20% test)\n",
    "X_train, X_test, y_train, y_test = train_test_split(X, y, test_size=0.2, random_state=42)"
   ]
  },
  {
   "cell_type": "code",
   "execution_count": 23,
   "id": "2bb4d211",
   "metadata": {},
   "outputs": [
    {
     "name": "stdout",
     "output_type": "stream",
     "text": [
      "Collecting textblob\n",
      "  Downloading textblob-0.19.0-py3-none-any.whl (624 kB)\n",
      "Collecting nltk>=3.9\n",
      "  Downloading nltk-3.9.1-py3-none-any.whl (1.5 MB)\n",
      "Requirement already satisfied: tqdm in c:\\users\\shiva sai\\anaconda3\\lib\\site-packages (from nltk>=3.9->textblob) (4.64.0)\n",
      "Requirement already satisfied: joblib in c:\\users\\shiva sai\\anaconda3\\lib\\site-packages (from nltk>=3.9->textblob) (1.4.2)\n",
      "Requirement already satisfied: click in c:\\users\\shiva sai\\anaconda3\\lib\\site-packages (from nltk>=3.9->textblob) (8.0.4)\n",
      "Requirement already satisfied: regex>=2021.8.3 in c:\\users\\shiva sai\\anaconda3\\lib\\site-packages (from nltk>=3.9->textblob) (2022.3.15)\n",
      "Requirement already satisfied: colorama in c:\\users\\shiva sai\\anaconda3\\lib\\site-packages (from click->nltk>=3.9->textblob) (0.4.4)\n",
      "Installing collected packages: nltk, textblob\n",
      "  Attempting uninstall: nltk\n",
      "    Found existing installation: nltk 3.7\n",
      "    Uninstalling nltk-3.7:\n",
      "      Successfully uninstalled nltk-3.7\n",
      "Successfully installed nltk-3.9.1 textblob-0.19.0\n",
      "Note: you may need to restart the kernel to use updated packages.\n"
     ]
    }
   ],
   "source": [
    "pip install textblob"
   ]
  },
  {
   "cell_type": "code",
   "execution_count": 24,
   "id": "91b570c9",
   "metadata": {},
   "outputs": [
    {
     "name": "stdout",
     "output_type": "stream",
     "text": [
      "                                     cleaned_message  sentiment\n",
      "0  go jurong point crazy available bugis n great ...        0.2\n",
      "1                            ok lar joking wif u oni        0.5\n",
      "2  free entry wkly comp win fa cup final tkts st ...        0.4\n",
      "3                u dun say early hor u c already say        0.1\n",
      "4        nah dont think goes usf lives around though        0.0\n"
     ]
    }
   ],
   "source": [
    "from textblob import TextBlob\n",
    "\n",
    "# Sentiment polarity: -1 (negative) to 1 (positive)\n",
    "df['sentiment'] = df['cleaned_message'].apply(lambda x: TextBlob(x).sentiment.polarity)\n",
    "\n",
    "# Output: Sentiment values for the first 5 messages\n",
    "print(df[['cleaned_message', 'sentiment']].head())"
   ]
  },
  {
   "cell_type": "code",
   "execution_count": 25,
   "id": "e9219b1f",
   "metadata": {},
   "outputs": [],
   "source": [
    "from textblob import TextBlob\n",
    "\n",
    "# Function to calculate sentiment polarity\n",
    "def sentiment_label(text):\n",
    "    polarity = TextBlob(text).sentiment.polarity\n",
    "    if polarity > 0.5:\n",
    "        return 1  # Positive sentiment\n",
    "    elif polarity < -0.5:\n",
    "        return -1  # Negative sentiment\n",
    "    else:\n",
    "        return 0  # Neutral sentiment\n",
    "\n",
    "# Apply sentiment analysis to the 'cleaned_message' column\n",
    "df['sentiment'] = df['cleaned_message'].apply(sentiment_label)\n",
    "\n",
    "# Now, sentiment_feature should be the sentiment values (as a sparse matrix or array)\n",
    "sentiment_feature = df['sentiment'].values.reshape(-1, 1)"
   ]
  },
  {
   "cell_type": "code",
   "execution_count": 26,
   "id": "7db21160",
   "metadata": {},
   "outputs": [
    {
     "name": "stderr",
     "output_type": "stream",
     "text": [
      "[nltk_data] Downloading package averaged_perceptron_tagger_eng to\n",
      "[nltk_data]     C:\\Users\\Shiva Sai\\AppData\\Roaming\\nltk_data...\n",
      "[nltk_data] Error downloading 'averaged_perceptron_tagger_eng' from\n",
      "[nltk_data]     <https://raw.githubusercontent.com/nltk/nltk_data/gh-p\n",
      "[nltk_data]     ages/packages/taggers/averaged_perceptron_tagger_eng.z\n",
      "[nltk_data]     ip>:   <urlopen error [Errno 11001] getaddrinfo\n",
      "[nltk_data]     failed>\n"
     ]
    },
    {
     "data": {
      "text/plain": [
       "False"
      ]
     },
     "execution_count": 26,
     "metadata": {},
     "output_type": "execute_result"
    }
   ],
   "source": [
    "nltk.download('averaged_perceptron_tagger_eng')"
   ]
  },
  {
   "cell_type": "code",
   "execution_count": 28,
   "id": "846b7f76",
   "metadata": {},
   "outputs": [
    {
     "name": "stderr",
     "output_type": "stream",
     "text": [
      "[nltk_data] Downloading package averaged_perceptron_tagger to\n",
      "[nltk_data]     C:\\Users\\Shiva Sai\\AppData\\Roaming\\nltk_data...\n",
      "[nltk_data]   Unzipping taggers\\averaged_perceptron_tagger.zip.\n",
      "[nltk_data] Downloading package punkt to C:\\Users\\Shiva\n",
      "[nltk_data]     Sai\\AppData\\Roaming\\nltk_data...\n",
      "[nltk_data]   Package punkt is already up-to-date!\n"
     ]
    },
    {
     "name": "stdout",
     "output_type": "stream",
     "text": [
      "                                     cleaned_message  \\\n",
      "0  go jurong point crazy available bugis n great ...   \n",
      "1                            ok lar joking wif u oni   \n",
      "2  free entry wkly comp win fa cup final tkts st ...   \n",
      "3                u dun say early hor u c already say   \n",
      "4        nah dont think goes usf lives around though   \n",
      "\n",
      "                                            pos_tags  \n",
      "0  [(go, VB), (jurong, JJ), (point, NN), (crazy, ...  \n",
      "1  [(ok, JJ), (lar, JJ), (joking, NN), (wif, NN),...  \n",
      "2  [(free, JJ), (entry, NN), (wkly, VBD), (comp, ...  \n",
      "3  [(u, JJ), (dun, NNS), (say, VBP), (early, JJ),...  \n",
      "4  [(nah, JJ), (dont, NN), (think, NN), (goes, VB...  \n"
     ]
    }
   ],
   "source": [
    "import nltk\n",
    "from nltk import pos_tag, word_tokenize\n",
    "\n",
    "# Download required resources\n",
    "nltk.download('averaged_perceptron_tagger')\n",
    "nltk.download('punkt')\n",
    "\n",
    "# Apply POS tagging\n",
    "df['pos_tags'] = df['cleaned_message'].apply(lambda x: pos_tag(word_tokenize(x)))\n",
    "\n",
    "# Preview\n",
    "print(df[['cleaned_message', 'pos_tags']].head())\n"
   ]
  },
  {
   "cell_type": "code",
   "execution_count": 29,
   "id": "49bdcb13",
   "metadata": {},
   "outputs": [],
   "source": [
    "import nltk\n",
    "from nltk.tokenize import word_tokenize\n",
    "from nltk import pos_tag\n",
    "\n",
    "# Tokenize and POS tagging\n",
    "df['pos_tags'] = df['cleaned_message'].apply(lambda x: pos_tag(word_tokenize(x)))\n",
    "\n",
    "# Example: Extracting the count of nouns, verbs, etc.\n",
    "def extract_pos_features(pos_tags):\n",
    "    pos_counts = {\n",
    "        'NN': 0, 'VB': 0, 'JJ': 0  # Noun, Verb, Adjective counts\n",
    "    }\n",
    "    for word, tag in pos_tags:\n",
    "        if tag.startswith('NN'):\n",
    "            pos_counts['NN'] += 1\n",
    "        elif tag.startswith('VB'):\n",
    "            pos_counts['VB'] += 1\n",
    "        elif tag.startswith('JJ'):\n",
    "            pos_counts['JJ'] += 1\n",
    "    return list(pos_counts.values())\n",
    "\n",
    "# Apply POS feature extraction\n",
    "pos_features_df = pd.DataFrame(df['pos_tags'].apply(extract_pos_features).tolist(), columns=['NN', 'VB', 'JJ'])\n"
   ]
  },
  {
   "cell_type": "code",
   "execution_count": 30,
   "id": "7ef3f11c",
   "metadata": {},
   "outputs": [],
   "source": [
    "# Reshape sentiment_feature to be a column vector (5572, 1)\n",
    "sentiment_feature = df['sentiment'].values.reshape(-1, 1)\n"
   ]
  },
  {
   "cell_type": "code",
   "execution_count": 31,
   "id": "9ce759a8",
   "metadata": {},
   "outputs": [],
   "source": [
    "# Ensure pos_features_df is a DataFrame (which it should be)\n",
    "pos_features_df = pd.DataFrame(df['pos_tags'].apply(extract_pos_features).tolist(), columns=['NN', 'VB', 'JJ'])"
   ]
  },
  {
   "cell_type": "code",
   "execution_count": 32,
   "id": "57ab74a9",
   "metadata": {},
   "outputs": [],
   "source": [
    "from scipy.sparse import csr_matrix\n",
    "\n",
    "# Reshape sentiment_feature to a column vector and convert it to a sparse matrix\n",
    "sentiment_feature_sparse = csr_matrix(df['sentiment'].values.reshape(-1, 1))\n",
    "\n",
    "# Assuming pos_features_df is already in the correct shape (2D array or DataFrame)\n",
    "# Convert pos_features_df to a sparse matrix\n",
    "pos_features_sparse = csr_matrix(pos_features_df.values)"
   ]
  },
  {
   "cell_type": "code",
   "execution_count": 34,
   "id": "5e79be51",
   "metadata": {},
   "outputs": [
    {
     "data": {
      "text/plain": [
       "GradientBoostingClassifier(random_state=42)"
      ]
     },
     "execution_count": 34,
     "metadata": {},
     "output_type": "execute_result"
    }
   ],
   "source": [
    "from scipy.sparse import hstack\n",
    "\n",
    "# Assuming X is your TF-IDF or other sparse matrix features\n",
    "X_combined = hstack([X, sentiment_feature_sparse, pos_features_sparse])\n",
    "\n",
    "# Now you can use X_combined to train your model\n",
    "from sklearn.ensemble import GradientBoostingClassifier\n",
    "\n",
    "model = GradientBoostingClassifier(n_estimators=100, learning_rate=0.1, max_depth=3, random_state=42)\n",
    "model.fit(X_combined, df['label'])  # Replace 'Category' with the target variable\n"
   ]
  },
  {
   "cell_type": "code",
   "execution_count": 38,
   "id": "7263667c",
   "metadata": {},
   "outputs": [],
   "source": [
    "df = df.rename(columns={'v1': 'label', 'v2': 'Message'})\n"
   ]
  },
  {
   "cell_type": "code",
   "execution_count": 40,
   "id": "75f722bf",
   "metadata": {},
   "outputs": [
    {
     "name": "stdout",
     "output_type": "stream",
     "text": [
      "  label cleaned_message\n",
      "0   ham             ham\n",
      "1   ham             ham\n",
      "2  spam            spam\n",
      "3   ham             ham\n",
      "4   ham             ham\n"
     ]
    }
   ],
   "source": [
    "import re\n",
    "\n",
    "df['cleaned_message'] = df['label'].apply(lambda x: re.sub(r'[^A-Za-z0-9\\s]', '', str(x)).lower())\n",
    "\n",
    "print(df[['label', 'cleaned_message']].head())\n"
   ]
  },
  {
   "cell_type": "code",
   "execution_count": 48,
   "id": "e8adc7b2",
   "metadata": {},
   "outputs": [
    {
     "name": "stdout",
     "output_type": "stream",
     "text": [
      "  label                                            message Unnamed: 2  \\\n",
      "0   ham  Go until jurong point, crazy.. Available only ...        NaN   \n",
      "1   ham                      Ok lar... Joking wif u oni...        NaN   \n",
      "2  spam  Free entry in 2 a wkly comp to win FA Cup fina...        NaN   \n",
      "3   ham  U dun say so early hor... U c already then say...        NaN   \n",
      "4   ham  Nah I don't think he goes to usf, he lives aro...        NaN   \n",
      "\n",
      "  Unnamed: 3 Unnamed: 4 cleaned_message  \\\n",
      "0        NaN        NaN             ham   \n",
      "1        NaN        NaN             ham   \n",
      "2        NaN        NaN            spam   \n",
      "3        NaN        NaN             ham   \n",
      "4        NaN        NaN             ham   \n",
      "\n",
      "                                              tokens  sentiment  \\\n",
      "0  [go, jurong, point, crazy, available, bugis, n...        0.0   \n",
      "1                     [ok, lar, joking, wif, u, oni]        0.0   \n",
      "2  [free, entry, wkly, comp, win, fa, cup, final,...        0.0   \n",
      "3      [u, dun, say, early, hor, u, c, already, say]        0.0   \n",
      "4  [nah, dont, think, goes, usf, lives, around, t...        0.0   \n",
      "\n",
      "                                            pos_tags  \n",
      "0  [(go, VB), (jurong, JJ), (point, NN), (crazy, ...  \n",
      "1  [(ok, JJ), (lar, JJ), (joking, NN), (wif, NN),...  \n",
      "2  [(free, JJ), (entry, NN), (wkly, VBD), (comp, ...  \n",
      "3  [(u, JJ), (dun, NNS), (say, VBP), (early, JJ),...  \n",
      "4  [(nah, JJ), (dont, NN), (think, NN), (goes, VB...  \n"
     ]
    }
   ],
   "source": [
    "from textblob import TextBlob\n",
    "\n",
    "# Compute sentiment polarity: -1 (negative) to 1 (positive)\n",
    "df['sentiment'] = df['cleaned_message'].apply(lambda x: TextBlob(x).sentiment.polarity)\n",
    "\n",
    "# Check the dataframe with sentiment scores\n",
    "print(df.head())\n"
   ]
  },
  {
   "cell_type": "code",
   "execution_count": 51,
   "id": "38676b9f",
   "metadata": {},
   "outputs": [
    {
     "name": "stdout",
     "output_type": "stream",
     "text": [
      "Index(['label', 'message', 'Unnamed: 2', 'Unnamed: 3', 'Unnamed: 4',\n",
      "       'cleaned_message', 'tokens', 'sentiment', 'pos_tags'],\n",
      "      dtype='object')\n"
     ]
    }
   ],
   "source": [
    "print(df.columns)\n",
    "\n"
   ]
  },
  {
   "cell_type": "code",
   "execution_count": 53,
   "id": "0d332032",
   "metadata": {},
   "outputs": [],
   "source": [
    "df['cleaned_message'] = df['message'].apply(lambda x: re.sub(r'[^A-Za-z0-9\\s]', '', str(x)).lower())\n"
   ]
  },
  {
   "cell_type": "code",
   "execution_count": 54,
   "id": "d5c54900",
   "metadata": {},
   "outputs": [],
   "source": [
    "df.rename(columns={'message': 'Message'}, inplace=True)\n"
   ]
  },
  {
   "cell_type": "code",
   "execution_count": 58,
   "id": "5996e4fd",
   "metadata": {},
   "outputs": [],
   "source": [
    "from sklearn.model_selection import train_test_split\n",
    "\n",
    "# Make sure your text column exists (print df.columns if unsure)\n",
    "df = df.rename(columns=lambda x: x.strip())  # Remove whitespace from column names if any\n",
    "df['cleaned_message'] = df['Message'].apply(lambda x: re.sub(r'[^A-Za-z0-9\\s]', '', str(x)).lower())\n",
    "\n",
    "X = df['cleaned_message']\n",
    "y = df['label']\n",
    "\n",
    "X_train_text, X_test_text, y_train, y_test = train_test_split(X, y, test_size=0.2, random_state=42)\n"
   ]
  },
  {
   "cell_type": "code",
   "execution_count": 59,
   "id": "fcd7c6c2",
   "metadata": {},
   "outputs": [],
   "source": [
    "from sklearn.feature_extraction.text import TfidfVectorizer\n",
    "\n",
    "vectorizer = TfidfVectorizer()\n",
    "\n",
    "# Fit on training and transform both\n",
    "X_train = vectorizer.fit_transform(X_train_text)\n",
    "X_test = vectorizer.transform(X_test_text)\n"
   ]
  },
  {
   "cell_type": "code",
   "execution_count": 60,
   "id": "84b854a1",
   "metadata": {},
   "outputs": [
    {
     "data": {
      "text/plain": [
       "GradientBoostingClassifier()"
      ]
     },
     "execution_count": 60,
     "metadata": {},
     "output_type": "execute_result"
    }
   ],
   "source": [
    "from sklearn.ensemble import GradientBoostingClassifier\n",
    "\n",
    "model = GradientBoostingClassifier()\n",
    "model.fit(X_train, y_train)\n"
   ]
  },
  {
   "cell_type": "code",
   "execution_count": 61,
   "id": "ea7fd19c",
   "metadata": {},
   "outputs": [
    {
     "data": {
      "image/png": "[encoded data removed]",
      "text/plain": [
       "<Figure size 576x432 with 1 Axes>"
      ]
     },
     "metadata": {
      "needs_background": "light"
     },
     "output_type": "display_data"
    }
   ],
   "source": [
    "from sklearn.metrics import roc_curve, auc\n",
    "from sklearn.preprocessing import LabelBinarizer\n",
    "import matplotlib.pyplot as plt\n",
    "\n",
    "lb = LabelBinarizer()\n",
    "y_test_bin = lb.fit_transform(y_test)\n",
    "y_prob = model.predict_proba(X_test)[:, 1]\n",
    "\n",
    "fpr, tpr, thresholds = roc_curve(y_test_bin, y_prob)\n",
    "roc_auc = auc(fpr, tpr)\n",
    "\n",
    "plt.figure(figsize=(8,6))\n",
    "plt.plot(fpr, tpr, label=f\"ROC curve (AUC = {roc_auc:.2f})\", color='blue')\n",
    "plt.plot([0,1], [0,1], 'k--')\n",
    "plt.xlabel(\"False Positive Rate\")\n",
    "plt.ylabel(\"True Positive Rate\")\n",
    "plt.title(\"ROC Curve\")\n",
    "plt.legend()\n",
    "plt.grid()\n",
    "plt.show()\n"
   ]
  },
  {
   "cell_type": "code",
   "execution_count": 63,
   "id": "ffe31a1b",
   "metadata": {},
   "outputs": [
    {
     "data": {
      "image/png": "[encoded data removed]",
      "text/plain": [
       "<Figure size 432x288 with 2 Axes>"
      ]
     },
     "metadata": {
      "needs_background": "light"
     },
     "output_type": "display_data"
    }
   ],
   "source": [
    "from sklearn.metrics import confusion_matrix\n",
    "import seaborn as sns\n",
    "import matplotlib.pyplot as plt\n",
    "\n",
    "# Make predictions\n",
    "predictions = model.predict(X_test)\n",
    "\n",
    "# Generate confusion matrix\n",
    "cm = confusion_matrix(y_test, predictions)\n",
    "\n",
    "# Plot confusion matrix heatmap\n",
    "plt.figure(figsize=(6,4))\n",
    "sns.heatmap(cm, annot=True, fmt=\"d\", cmap=\"Blues\",\n",
    "            xticklabels=[\"Not Spam\", \"Spam\"], \n",
    "            yticklabels=[\"Not Spam\", \"Spam\"])\n",
    "\n",
    "plt.xlabel(\"Predicted Label\")\n",
    "plt.ylabel(\"True Label\")\n",
    "plt.title(\"Confusion Matrix\")\n",
    "plt.grid(False)\n",
    "plt.tight_layout()\n",
    "plt.show()\n"
   ]
  },
  {
   "cell_type": "code",
   "execution_count": 65,
   "id": "8cddf0b9",
   "metadata": {},
   "outputs": [
    {
     "name": "stdout",
     "output_type": "stream",
     "text": [
      "Accuracy: 96.32%\n"
     ]
    }
   ],
   "source": [
    "from sklearn.model_selection import train_test_split\n",
    "from sklearn.ensemble import GradientBoostingClassifier\n",
    "from sklearn.metrics import accuracy_score\n",
    "\n",
    "# Assuming 'X_combined' is your combined feature matrix (e.g., TF-IDF, sentiment, POS features, etc.)\n",
    "# 'y' is the target variable (Category: ham or spam)\n",
    "X = X_combined  # Your combined feature matrix (TF-IDF + Sentiment + other features)\n",
    "y = df['label'].map({'ham': 0, 'spam': 1})  # Encode labels as 0 and 1 (ham: 0, spam: 1)\n",
    "\n",
    "# Split the data into train and test sets (80% train, 20% test)\n",
    "X_train, X_test, y_train, y_test = train_test_split(X, y, test_size=0.2, random_state=42)\n",
    "\n",
    "# Initialize the classifier (you can use any classifier, here using GradientBoostingClassifier)\n",
    "model = GradientBoostingClassifier(n_estimators=100, learning_rate=0.1, max_depth=3, random_state=42)\n",
    "\n",
    "# Train the model\n",
    "model.fit(X_train, y_train)\n",
    "\n",
    "# Make predictions\n",
    "y_pred = model.predict(X_test)\n",
    "\n",
    "# Calculate the accuracy\n",
    "accuracy = accuracy_score(y_test, y_pred)\n",
    "print(f'Accuracy: {accuracy * 100:.2f}%')"
   ]
  },
  {
   "cell_type": "code",
   "execution_count": null,
   "id": "daf8284b",
   "metadata": {},
   "outputs": [],
   "source": []
  }
 ],
 "metadata": {
  "kernelspec": {
   "display_name": "Python 3 (ipykernel)",
   "language": "python",
   "name": "python3"
  },
  "language_info": {
   "codemirror_mode": {
    "name": "ipython",
    "version": 3
   },
   "file_extension": ".py",
   "mimetype": "text/x-python",
   "name": "python",
   "nbconvert_exporter": "python",
   "pygments_lexer": "ipython3",
   "version": "3.9.12"
  }
 },
 "nbformat": 4,
 "nbformat_minor": 5
}
